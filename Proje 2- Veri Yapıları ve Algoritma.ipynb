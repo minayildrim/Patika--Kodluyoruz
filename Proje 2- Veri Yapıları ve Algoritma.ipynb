{
 "cells": [
  {
   "cell_type": "markdown",
   "id": "238c0d3e",
   "metadata": {},
   "source": [
    "#Proje 2\n",
    "[16,21,11,8,12,22] -> Merge Sort\n",
    "\n",
    "1.Yukarıdaki dizinin sort türüne göre aşamalarını yazınız.\n",
    "2.Big-O gösterimini yazınız."
   ]
  },
  {
   "cell_type": "markdown",
   "id": "8927799d",
   "metadata": {},
   "source": [
    "1.\n",
    "[16,21,11,8,12,22]\n",
    "↓              ↓\n",
    "[16,21,11] - [8,12,22]\n",
    "↓     ↓         ↓    ↓\n",
    "[16] [21,11] - [8] [12,22]\n",
    " ↓      ↓     ↓     ↓    ↓     ↓\n",
    "[16] , [21] [11] - [8] ,[12] [22]\n",
    " ↓      ↓        ↓    ↓\n",
    "[16] ,[11,21] - [8], [12,22]\n",
    " ↓            ↓\n",
    "[11,16,21]-[8,12,22]\n",
    "          ↓\n",
    "[8,11,12,16,21,22]\n",
    "\n",
    "\n",
    "\n"
   ]
  },
  {
   "cell_type": "markdown",
   "id": "121e303f",
   "metadata": {},
   "source": [
    "2. O(nlogn) ise n=6 sebebiyle  O(6log6) olur."
   ]
  },
  {
   "cell_type": "code",
   "execution_count": null,
   "id": "9a4f4411",
   "metadata": {},
   "outputs": [],
   "source": []
  }
 ],
 "metadata": {
  "kernelspec": {
   "display_name": "Python 3 (ipykernel)",
   "language": "python",
   "name": "python3"
  },
  "language_info": {
   "codemirror_mode": {
    "name": "ipython",
    "version": 3
   },
   "file_extension": ".py",
   "mimetype": "text/x-python",
   "name": "python",
   "nbconvert_exporter": "python",
   "pygments_lexer": "ipython3",
   "version": "3.9.7"
  }
 },
 "nbformat": 4,
 "nbformat_minor": 5
}
